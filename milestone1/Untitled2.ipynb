{
 "cells": [
  {
   "cell_type": "code",
   "execution_count": 1,
   "id": "d80c7ed7",
   "metadata": {},
   "outputs": [
    {
     "ename": "SyntaxError",
     "evalue": "EOL while scanning string literal (<ipython-input-1-700453b3b5b6>, line 36)",
     "output_type": "error",
     "traceback": [
      "\u001b[1;36m  File \u001b[1;32m\"<ipython-input-1-700453b3b5b6>\"\u001b[1;36m, line \u001b[1;32m36\u001b[0m\n\u001b[1;33m    flow(ob,workflow[ob]['Execution'],workflow[ob]['Activiti\u001b[0m\n\u001b[1;37m                                                            ^\u001b[0m\n\u001b[1;31mSyntaxError\u001b[0m\u001b[1;31m:\u001b[0m EOL while scanning string literal\n"
     ]
    }
   ],
   "source": [
    "import yaml\n",
    "from yaml.loader import SafeLoader\n",
    "from datetime import datetime \n",
    "import time\n",
    "import threading\n",
    " \n",
    "a_yaml_file = open(\"Milestone1A.yaml\")\n",
    "workflow= yaml.load(a_yaml_file, Loader=yaml.SafeLoader)\n",
    "\n",
    "file = open(\"log1.txt\",\"w\")\n",
    "threads= []\n",
    "def flow(ob, execution, activities):\n",
    "    if execution == \"Sequential\":\n",
    "        for n in activities:\n",
    "            now = datetime.now()\n",
    "            file.write(f\"{now};{ob}.{n} Entry\\n\")\n",
    "            if activities[n]['Type'] == \"Flow\":\n",
    "                newwork = ob + '.' + n\n",
    "                flow(newwork,activities[n]['Execution'],activities[n]['Activities'])\n",
    "            elif activities[n]['Type'] == \"Task\":\n",
    "                newwork = ob + '.' + n\n",
    "                task(newwork,activities[n]['function'],activities[n]['Inputs'])\n",
    "            now= datetime.now()\n",
    "            file.write(f\"{now};{ob}.{n} Exit\\n\")\n",
    "def task(ob,function,inputs):\n",
    "        if function == 'TimeFunction':\n",
    "          fun_input = inputs['FunctionInput']  \n",
    "          exc_time =inputs['ExecutionTime']\n",
    "        now = datetime.now()\n",
    "        file.write(f\"{now};{ob} Executing {function} ({fun_input}), {exc_time})\\n\")\n",
    "        time.sleep(int(exc_time))\n",
    "for ob in workflow:\n",
    "        now = datetime.now()\n",
    "        file.write(F\"{now};{ob} Entry\\n\")\n",
    "        if workflow[ob]['Type'] == \"flow\":\n",
    "            flow(ob,workflow[ob]['Execution'],workflow[ob]['Activiti"
   ]
  },
  {
   "cell_type": "code",
   "execution_count": null,
   "id": "f3037673",
   "metadata": {},
   "outputs": [],
   "source": []
  }
 ],
 "metadata": {
  "kernelspec": {
   "display_name": "Python 3",
   "language": "python",
   "name": "python3"
  },
  "language_info": {
   "codemirror_mode": {
    "name": "ipython",
    "version": 3
   },
   "file_extension": ".py",
   "mimetype": "text/x-python",
   "name": "python",
   "nbconvert_exporter": "python",
   "pygments_lexer": "ipython3",
   "version": "3.8.8"
  }
 },
 "nbformat": 4,
 "nbformat_minor": 5
}
